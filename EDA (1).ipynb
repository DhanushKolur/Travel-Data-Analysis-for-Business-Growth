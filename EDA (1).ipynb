{
 "cells": [
  {
   "cell_type": "code",
   "execution_count": 1,
   "id": "a0498afc",
   "metadata": {
    "scrolled": true
   },
   "outputs": [
    {
     "name": "stdout",
     "output_type": "stream",
     "text": [
      "      Unnamed: 0  Year  quarter  ukos  mode  country  purpose  package  Age  \\\n",
      "0              0  2022        2     1     1       10        1        1    1   \n",
      "1              1  2022        2     1     1       10        1        1    2   \n",
      "2              2  2022        2     1     1       10        1        1    2   \n",
      "3              3  2022        2     1     1       10        1        1    2   \n",
      "4              4  2022        2     1     1       10        1        1    2   \n",
      "...          ...   ...      ...   ...   ...      ...      ...      ...  ...   \n",
      "9079        9079  2022        2     2     3       90        4        1    4   \n",
      "9080        9080  2022        2     2     3       90        4        1    6   \n",
      "9081        9081  2022        2     2     3       90        4        1    6   \n",
      "9082        9082  2022        2     2     3       90        4        1    6   \n",
      "9083        9083  2022        2     2     3       91        1        1    4   \n",
      "\n",
      "      Sex  duration    visits     nights       expend  sample  \n",
      "0       2         2  1216.922   4867.687   578037.819       1  \n",
      "1       1         1   940.625   2821.874   188124.928       1  \n",
      "2       1         2  6044.895  36510.253  4621624.177       5  \n",
      "3       2         1  1102.325   3306.974   220464.930       1  \n",
      "4       2         2  4353.722  17414.889  1158992.280       3  \n",
      "...   ...       ...       ...        ...          ...     ...  \n",
      "9079    2         2   925.756   9257.564   370302.568       1  \n",
      "9080    1         2   925.756   5554.539   138863.463       1  \n",
      "9081    1         3  1061.371  16981.942  1040143.941       1  \n",
      "9082    2         4  1299.207  48070.667   129920.721       1  \n",
      "9083    1         2  1326.673   5306.693  2207584.088       1  \n",
      "\n",
      "[9084 rows x 15 columns]\n"
     ]
    }
   ],
   "source": [
    "import pandas as pd\n",
    "import pandas as pd\n",
    "from matplotlib import pyplot as plt\n",
    "import seaborn as sns\n",
    "\n",
    "df=pd.read_csv(\"[CLEANED]TravelPac Q2 2022.csv\")\n",
    "print(df)"
   ]
  },
  {
   "cell_type": "code",
   "execution_count": 87,
   "id": "ffbd057b",
   "metadata": {},
   "outputs": [
    {
     "name": "stdout",
     "output_type": "stream",
     "text": [
      "      Age     expend\n",
      "0       1   578038.0\n",
      "1       2   188125.0\n",
      "2       2  4621624.0\n",
      "3       2   220465.0\n",
      "4       2  1158992.0\n",
      "...   ...        ...\n",
      "9079    4   370303.0\n",
      "9080    6   138863.0\n",
      "9081    6  1040144.0\n",
      "9082    6   129921.0\n",
      "9083    4  2207584.0\n",
      "\n",
      "[9084 rows x 2 columns]\n"
     ]
    }
   ],
   "source": [
    "index1=df.iloc[ : , [8,13]].round()\n",
    "print(index1)"
   ]
  },
  {
   "cell_type": "code",
   "execution_count": 88,
   "id": "95220d69",
   "metadata": {},
   "outputs": [
    {
     "name": "stdout",
     "output_type": "stream",
     "text": [
      "      mode     expend\n",
      "0        1   578038.0\n",
      "1        1   188125.0\n",
      "2        1  4621624.0\n",
      "3        1   220465.0\n",
      "4        1  1158992.0\n",
      "...    ...        ...\n",
      "9079     3   370303.0\n",
      "9080     3   138863.0\n",
      "9081     3  1040144.0\n",
      "9082     3   129921.0\n",
      "9083     3  2207584.0\n",
      "\n",
      "[9084 rows x 2 columns]\n"
     ]
    }
   ],
   "source": [
    "index20=df.iloc[ : , [4,13]].round()\n",
    "print(index20)"
   ]
  },
  {
   "cell_type": "code",
   "execution_count": 89,
   "id": "9191f0f4",
   "metadata": {},
   "outputs": [
    {
     "data": {
      "text/plain": [
       "Index(['Unnamed: 0', 'Year', 'quarter', 'ukos', 'mode', 'country', 'purpose',\n",
       "       'package', 'Age', 'Sex', 'duration', 'visits', 'nights', 'expend',\n",
       "       'sample'],\n",
       "      dtype='object')"
      ]
     },
     "execution_count": 89,
     "metadata": {},
     "output_type": "execute_result"
    }
   ],
   "source": [
    "df.columns"
   ]
  },
  {
   "cell_type": "code",
   "execution_count": 90,
   "id": "bc34c283",
   "metadata": {},
   "outputs": [
    {
     "data": {
      "text/plain": [
       "Age             4.0\n",
       "expend    2488249.0\n",
       "dtype: float64"
      ]
     },
     "execution_count": 90,
     "metadata": {},
     "output_type": "execute_result"
    }
   ],
   "source": [
    "index1.mean(axis = 0).round()"
   ]
  },
  {
   "cell_type": "code",
   "execution_count": 91,
   "id": "6bdec405",
   "metadata": {},
   "outputs": [],
   "source": [
    "index2=index1.groupby('Age')['expend'].mean().round()"
   ]
  },
  {
   "cell_type": "code",
   "execution_count": 92,
   "id": "07009441",
   "metadata": {},
   "outputs": [
    {
     "data": {
      "text/plain": [
       "Age\n",
       "1     856527.0\n",
       "2    1639177.0\n",
       "3    2482334.0\n",
       "4    2772542.0\n",
       "5    2734109.0\n",
       "6    2837435.0\n",
       "7    2858929.0\n",
       "9    1667348.0\n",
       "Name: expend, dtype: float64"
      ]
     },
     "execution_count": 92,
     "metadata": {},
     "output_type": "execute_result"
    }
   ],
   "source": [
    "index2"
   ]
  },
  {
   "cell_type": "code",
   "execution_count": 93,
   "id": "e644dff0",
   "metadata": {},
   "outputs": [
    {
     "data": {
      "text/plain": [
       "expend\n",
       "0.0            1.295238\n",
       "759.0          1.000000\n",
       "1057.0         1.000000\n",
       "1073.0         1.000000\n",
       "1157.0         1.000000\n",
       "                 ...   \n",
       "110685589.0    1.000000\n",
       "124473080.0    1.000000\n",
       "141739599.0    1.000000\n",
       "142774686.0    2.000000\n",
       "149716619.0    1.000000\n",
       "Name: mode, Length: 8357, dtype: float64"
      ]
     },
     "execution_count": 93,
     "metadata": {},
     "output_type": "execute_result"
    }
   ],
   "source": [
    "index10=index20.groupby('expend')['mode'].mean()\n",
    "index10"
   ]
  },
  {
   "cell_type": "code",
   "execution_count": 94,
   "id": "2ae042cc",
   "metadata": {},
   "outputs": [
    {
     "data": {
      "image/png": "[encoded data removed]",
      "text/plain": [
       "<Figure size 648x576 with 1 Axes>"
      ]
     },
     "metadata": {
      "needs_background": "light"
     },
     "output_type": "display_data"
    }
   ],
   "source": [
    "import matplotlib.pyplot as mp\n",
    "index2.plot(x=\"Age\",y=\"expend\",kind=\"bar\",figsize=(9,8))\n",
    "plt.xlabel(\"Age\")\n",
    "plt.ylabel(\"Expend\")\n",
    "mp.show()"
   ]
  },
  {
   "cell_type": "code",
   "execution_count": 95,
   "id": "b6ad566f",
   "metadata": {},
   "outputs": [
    {
     "data": {
      "image/png": "[encoded data removed]",
      "text/plain": [
       "<Figure size 432x288 with 1 Axes>"
      ]
     },
     "metadata": {
      "needs_background": "light"
     },
     "output_type": "display_data"
    }
   ],
   "source": [
    "df.plot.scatter(x = 'Age', y = 'expend', s = 150);"
   ]
  },
  {
   "cell_type": "code",
   "execution_count": 125,
   "id": "7913ca7e",
   "metadata": {},
   "outputs": [
    {
     "name": "stdout",
     "output_type": "stream",
     "text": [
      "Age group who travel very often\n"
     ]
    },
    {
     "data": {
      "image/png": "[encoded data removed]",
      "text/plain": [
       "<Figure size 432x288 with 1 Axes>"
      ]
     },
     "metadata": {
      "needs_background": "light"
     },
     "output_type": "display_data"
    }
   ],
   "source": [
    "df.hist(column='Age', bins=50);\n",
    "plt.xlabel(\"Age\")\n",
    "plt.ylabel(\"count\")\n",
    "print(\"Age group who travel very often\") "
   ]
  },
  {
   "cell_type": "code",
   "execution_count": 97,
   "id": "776acfdc",
   "metadata": {},
   "outputs": [
    {
     "data": {
      "text/plain": [
       "<AxesSubplot:ylabel='expend'>"
      ]
     },
     "execution_count": 97,
     "metadata": {},
     "output_type": "execute_result"
    },
    {
     "data": {
      "image/png": "[encoded data removed]",
      "text/plain": [
       "<Figure size 432x288 with 1 Axes>"
      ]
     },
     "metadata": {},
     "output_type": "display_data"
    }
   ],
   "source": [
    "index2.groupby(['Age']).sum().plot(\n",
    "    kind='pie', y='expend', autopct='%1.0f%%')"
   ]
  },
  {
   "cell_type": "code",
   "execution_count": 126,
   "id": "edd76774",
   "metadata": {},
   "outputs": [
    {
     "data": {
      "image/png": "[encoded data removed]",
      "text/plain": [
       "<Figure size 864x432 with 1 Axes>"
      ]
     },
     "metadata": {
      "needs_background": "light"
     },
     "output_type": "display_data"
    }
   ],
   "source": [
    "plt.figure(figsize=(12,6))\n",
    "plt.hist([index2],label=['Age','expend'],bins=10,alpha=0.5)\n",
    "plt.legend(borderpad=0.5,fontsize=20)\n",
    "plt.show()"
   ]
  },
  {
   "cell_type": "markdown",
   "id": "8f28889f",
   "metadata": {},
   "source": [
    "df.columns\n"
   ]
  },
  {
   "cell_type": "code",
   "execution_count": 99,
   "id": "f6d77e0f",
   "metadata": {},
   "outputs": [
    {
     "data": {
      "text/plain": [
       "Index(['Unnamed: 0', 'Year', 'quarter', 'ukos', 'mode', 'country', 'purpose',\n",
       "       'package', 'Age', 'Sex', 'duration', 'visits', 'nights', 'expend',\n",
       "       'sample'],\n",
       "      dtype='object')"
      ]
     },
     "execution_count": 99,
     "metadata": {},
     "output_type": "execute_result"
    }
   ],
   "source": [
    "df.columns"
   ]
  },
  {
   "cell_type": "code",
   "execution_count": 100,
   "id": "4dd04092",
   "metadata": {},
   "outputs": [
    {
     "data": {
      "text/html": [
       "<div>\n",
       "<style scoped>\n",
       "    .dataframe tbody tr th:only-of-type {\n",
       "        vertical-align: middle;\n",
       "    }\n",
       "\n",
       "    .dataframe tbody tr th {\n",
       "        vertical-align: top;\n",
       "    }\n",
       "\n",
       "    .dataframe thead th {\n",
       "        text-align: right;\n",
       "    }\n",
       "</style>\n",
       "<table border=\"1\" class=\"dataframe\">\n",
       "  <thead>\n",
       "    <tr style=\"text-align: right;\">\n",
       "      <th></th>\n",
       "      <th>Unnamed: 0</th>\n",
       "      <th>Year</th>\n",
       "      <th>quarter</th>\n",
       "      <th>ukos</th>\n",
       "      <th>mode</th>\n",
       "      <th>country</th>\n",
       "      <th>purpose</th>\n",
       "      <th>package</th>\n",
       "      <th>Age</th>\n",
       "      <th>Sex</th>\n",
       "      <th>duration</th>\n",
       "      <th>visits</th>\n",
       "      <th>nights</th>\n",
       "      <th>expend</th>\n",
       "      <th>sample</th>\n",
       "    </tr>\n",
       "  </thead>\n",
       "  <tbody>\n",
       "    <tr>\n",
       "      <th>0</th>\n",
       "      <td>0</td>\n",
       "      <td>2022</td>\n",
       "      <td>2</td>\n",
       "      <td>1</td>\n",
       "      <td>1</td>\n",
       "      <td>10</td>\n",
       "      <td>1</td>\n",
       "      <td>1</td>\n",
       "      <td>1</td>\n",
       "      <td>2</td>\n",
       "      <td>2</td>\n",
       "      <td>1216.922</td>\n",
       "      <td>4867.687</td>\n",
       "      <td>578037.819</td>\n",
       "      <td>1</td>\n",
       "    </tr>\n",
       "    <tr>\n",
       "      <th>1</th>\n",
       "      <td>1</td>\n",
       "      <td>2022</td>\n",
       "      <td>2</td>\n",
       "      <td>1</td>\n",
       "      <td>1</td>\n",
       "      <td>10</td>\n",
       "      <td>1</td>\n",
       "      <td>1</td>\n",
       "      <td>2</td>\n",
       "      <td>1</td>\n",
       "      <td>1</td>\n",
       "      <td>940.625</td>\n",
       "      <td>2821.874</td>\n",
       "      <td>188124.928</td>\n",
       "      <td>1</td>\n",
       "    </tr>\n",
       "    <tr>\n",
       "      <th>2</th>\n",
       "      <td>2</td>\n",
       "      <td>2022</td>\n",
       "      <td>2</td>\n",
       "      <td>1</td>\n",
       "      <td>1</td>\n",
       "      <td>10</td>\n",
       "      <td>1</td>\n",
       "      <td>1</td>\n",
       "      <td>2</td>\n",
       "      <td>1</td>\n",
       "      <td>2</td>\n",
       "      <td>6044.895</td>\n",
       "      <td>36510.253</td>\n",
       "      <td>4621624.177</td>\n",
       "      <td>5</td>\n",
       "    </tr>\n",
       "    <tr>\n",
       "      <th>3</th>\n",
       "      <td>3</td>\n",
       "      <td>2022</td>\n",
       "      <td>2</td>\n",
       "      <td>1</td>\n",
       "      <td>1</td>\n",
       "      <td>10</td>\n",
       "      <td>1</td>\n",
       "      <td>1</td>\n",
       "      <td>2</td>\n",
       "      <td>2</td>\n",
       "      <td>1</td>\n",
       "      <td>1102.325</td>\n",
       "      <td>3306.974</td>\n",
       "      <td>220464.930</td>\n",
       "      <td>1</td>\n",
       "    </tr>\n",
       "    <tr>\n",
       "      <th>4</th>\n",
       "      <td>4</td>\n",
       "      <td>2022</td>\n",
       "      <td>2</td>\n",
       "      <td>1</td>\n",
       "      <td>1</td>\n",
       "      <td>10</td>\n",
       "      <td>1</td>\n",
       "      <td>1</td>\n",
       "      <td>2</td>\n",
       "      <td>2</td>\n",
       "      <td>2</td>\n",
       "      <td>4353.722</td>\n",
       "      <td>17414.889</td>\n",
       "      <td>1158992.280</td>\n",
       "      <td>3</td>\n",
       "    </tr>\n",
       "    <tr>\n",
       "      <th>...</th>\n",
       "      <td>...</td>\n",
       "      <td>...</td>\n",
       "      <td>...</td>\n",
       "      <td>...</td>\n",
       "      <td>...</td>\n",
       "      <td>...</td>\n",
       "      <td>...</td>\n",
       "      <td>...</td>\n",
       "      <td>...</td>\n",
       "      <td>...</td>\n",
       "      <td>...</td>\n",
       "      <td>...</td>\n",
       "      <td>...</td>\n",
       "      <td>...</td>\n",
       "      <td>...</td>\n",
       "    </tr>\n",
       "    <tr>\n",
       "      <th>9079</th>\n",
       "      <td>9079</td>\n",
       "      <td>2022</td>\n",
       "      <td>2</td>\n",
       "      <td>2</td>\n",
       "      <td>3</td>\n",
       "      <td>90</td>\n",
       "      <td>4</td>\n",
       "      <td>1</td>\n",
       "      <td>4</td>\n",
       "      <td>2</td>\n",
       "      <td>2</td>\n",
       "      <td>925.756</td>\n",
       "      <td>9257.564</td>\n",
       "      <td>370302.568</td>\n",
       "      <td>1</td>\n",
       "    </tr>\n",
       "    <tr>\n",
       "      <th>9080</th>\n",
       "      <td>9080</td>\n",
       "      <td>2022</td>\n",
       "      <td>2</td>\n",
       "      <td>2</td>\n",
       "      <td>3</td>\n",
       "      <td>90</td>\n",
       "      <td>4</td>\n",
       "      <td>1</td>\n",
       "      <td>6</td>\n",
       "      <td>1</td>\n",
       "      <td>2</td>\n",
       "      <td>925.756</td>\n",
       "      <td>5554.539</td>\n",
       "      <td>138863.463</td>\n",
       "      <td>1</td>\n",
       "    </tr>\n",
       "    <tr>\n",
       "      <th>9081</th>\n",
       "      <td>9081</td>\n",
       "      <td>2022</td>\n",
       "      <td>2</td>\n",
       "      <td>2</td>\n",
       "      <td>3</td>\n",
       "      <td>90</td>\n",
       "      <td>4</td>\n",
       "      <td>1</td>\n",
       "      <td>6</td>\n",
       "      <td>1</td>\n",
       "      <td>3</td>\n",
       "      <td>1061.371</td>\n",
       "      <td>16981.942</td>\n",
       "      <td>1040143.941</td>\n",
       "      <td>1</td>\n",
       "    </tr>\n",
       "    <tr>\n",
       "      <th>9082</th>\n",
       "      <td>9082</td>\n",
       "      <td>2022</td>\n",
       "      <td>2</td>\n",
       "      <td>2</td>\n",
       "      <td>3</td>\n",
       "      <td>90</td>\n",
       "      <td>4</td>\n",
       "      <td>1</td>\n",
       "      <td>6</td>\n",
       "      <td>2</td>\n",
       "      <td>4</td>\n",
       "      <td>1299.207</td>\n",
       "      <td>48070.667</td>\n",
       "      <td>129920.721</td>\n",
       "      <td>1</td>\n",
       "    </tr>\n",
       "    <tr>\n",
       "      <th>9083</th>\n",
       "      <td>9083</td>\n",
       "      <td>2022</td>\n",
       "      <td>2</td>\n",
       "      <td>2</td>\n",
       "      <td>3</td>\n",
       "      <td>91</td>\n",
       "      <td>1</td>\n",
       "      <td>1</td>\n",
       "      <td>4</td>\n",
       "      <td>1</td>\n",
       "      <td>2</td>\n",
       "      <td>1326.673</td>\n",
       "      <td>5306.693</td>\n",
       "      <td>2207584.088</td>\n",
       "      <td>1</td>\n",
       "    </tr>\n",
       "  </tbody>\n",
       "</table>\n",
       "<p>9084 rows × 15 columns</p>\n",
       "</div>"
      ],
      "text/plain": [
       "      Unnamed: 0  Year  quarter  ukos  mode  country  purpose  package  Age  \\\n",
       "0              0  2022        2     1     1       10        1        1    1   \n",
       "1              1  2022        2     1     1       10        1        1    2   \n",
       "2              2  2022        2     1     1       10        1        1    2   \n",
       "3              3  2022        2     1     1       10        1        1    2   \n",
       "4              4  2022        2     1     1       10        1        1    2   \n",
       "...          ...   ...      ...   ...   ...      ...      ...      ...  ...   \n",
       "9079        9079  2022        2     2     3       90        4        1    4   \n",
       "9080        9080  2022        2     2     3       90        4        1    6   \n",
       "9081        9081  2022        2     2     3       90        4        1    6   \n",
       "9082        9082  2022        2     2     3       90        4        1    6   \n",
       "9083        9083  2022        2     2     3       91        1        1    4   \n",
       "\n",
       "      Sex  duration    visits     nights       expend  sample  \n",
       "0       2         2  1216.922   4867.687   578037.819       1  \n",
       "1       1         1   940.625   2821.874   188124.928       1  \n",
       "2       1         2  6044.895  36510.253  4621624.177       5  \n",
       "3       2         1  1102.325   3306.974   220464.930       1  \n",
       "4       2         2  4353.722  17414.889  1158992.280       3  \n",
       "...   ...       ...       ...        ...          ...     ...  \n",
       "9079    2         2   925.756   9257.564   370302.568       1  \n",
       "9080    1         2   925.756   5554.539   138863.463       1  \n",
       "9081    1         3  1061.371  16981.942  1040143.941       1  \n",
       "9082    2         4  1299.207  48070.667   129920.721       1  \n",
       "9083    1         2  1326.673   5306.693  2207584.088       1  \n",
       "\n",
       "[9084 rows x 15 columns]"
      ]
     },
     "execution_count": 100,
     "metadata": {},
     "output_type": "execute_result"
    }
   ],
   "source": [
    "df"
   ]
  },
  {
   "cell_type": "code",
   "execution_count": 127,
   "id": "a620ff04",
   "metadata": {},
   "outputs": [
    {
     "data": {
      "text/plain": [
       "purpose\n",
       "1    3989935.0\n",
       "2    1917279.0\n",
       "3    2800079.0\n",
       "4    1504298.0\n",
       "5    1322950.0\n",
       "6      40664.0\n",
       "Name: expend, dtype: float64"
      ]
     },
     "execution_count": 127,
     "metadata": {},
     "output_type": "execute_result"
    }
   ],
   "source": [
    "index3=df.iloc[ : , [6,13]]\n",
    "index3=index3.groupby(\"purpose\")['expend'].mean().round()\n",
    "index3"
   ]
  },
  {
   "cell_type": "code",
   "execution_count": 128,
   "id": "7dc2cd08",
   "metadata": {},
   "outputs": [
    {
     "data": {
      "image/png": "[encoded data removed]",
      "text/plain": [
       "<Figure size 288x576 with 1 Axes>"
      ]
     },
     "metadata": {
      "needs_background": "light"
     },
     "output_type": "display_data"
    }
   ],
   "source": [
    "index3.plot(x=\"purpose\",y=\"expend\",kind=\"bar\",orientation='horizontal',figsize=(4,8))\n",
    "plt.xlabel(\"purpose\")\n",
    "plt.ylabel(\"Expend\")\n",
    "mp.show()"
   ]
  },
  {
   "cell_type": "code",
   "execution_count": 103,
   "id": "e32b2cec",
   "metadata": {},
   "outputs": [
    {
     "data": {
      "image/png": "[encoded data removed]",
      "text/plain": [
       "<Figure size 288x288 with 1 Axes>"
      ]
     },
     "metadata": {
      "needs_background": "light"
     },
     "output_type": "display_data"
    }
   ],
   "source": [
    "index3.plot(x=\"purpose\",y=\"expend\",kind=\"bar\",figsize=(4,4))\n",
    "plt.xlabel(\"purpose\")\n",
    "plt.ylabel(\"Expend\")\n",
    "mp.show()"
   ]
  },
  {
   "cell_type": "code",
   "execution_count": 104,
   "id": "ec8b54c1",
   "metadata": {},
   "outputs": [
    {
     "data": {
      "image/png": "[encoded data removed]",
      "text/plain": [
       "<Figure size 432x288 with 1 Axes>"
      ]
     },
     "metadata": {
      "needs_background": "light"
     },
     "output_type": "display_data"
    }
   ],
   "source": [
    "df.plot.scatter(x = 'purpose', y = 'expend', s = 100);"
   ]
  },
  {
   "cell_type": "code",
   "execution_count": 105,
   "id": "dbf9f73a",
   "metadata": {},
   "outputs": [
    {
     "data": {
      "image/png": "[encoded data removed]",
      "text/plain": [
       "<Figure size 432x288 with 1 Axes>"
      ]
     },
     "metadata": {
      "needs_background": "light"
     },
     "output_type": "display_data"
    }
   ],
   "source": [
    "df.hist(column='purpose', bins=50);"
   ]
  },
  {
   "cell_type": "code",
   "execution_count": 106,
   "id": "af691740",
   "metadata": {},
   "outputs": [
    {
     "data": {
      "text/plain": [
       "<AxesSubplot:ylabel='Frequency'>"
      ]
     },
     "execution_count": 106,
     "metadata": {},
     "output_type": "execute_result"
    },
    {
     "data": {
      "image/png": "[encoded data removed]",
      "text/plain": [
       "<Figure size 518.4x288 with 1 Axes>"
      ]
     },
     "metadata": {
      "needs_background": "light"
     },
     "output_type": "display_data"
    }
   ],
   "source": [
    "index3.plot.hist(stacked=True, bins=10, figsize=(7.2,4))"
   ]
  },
  {
   "cell_type": "code",
   "execution_count": 107,
   "id": "09e7d5b3",
   "metadata": {},
   "outputs": [
    {
     "data": {
      "text/plain": [
       "<AxesSubplot:ylabel='expend'>"
      ]
     },
     "execution_count": 107,
     "metadata": {},
     "output_type": "execute_result"
    },
    {
     "data": {
      "image/png": "[encoded data removed]",
      "text/plain": [
       "<Figure size 432x288 with 1 Axes>"
      ]
     },
     "metadata": {},
     "output_type": "display_data"
    }
   ],
   "source": [
    "index3.groupby(['purpose']).sum().plot(\n",
    "    kind='pie', y='expend', autopct='%1.0f%%')"
   ]
  },
  {
   "cell_type": "code",
   "execution_count": 108,
   "id": "2978b383",
   "metadata": {},
   "outputs": [
    {
     "data": {
      "text/plain": [
       "Index(['Unnamed: 0', 'Year', 'quarter', 'ukos', 'mode', 'country', 'purpose',\n",
       "       'package', 'Age', 'Sex', 'duration', 'visits', 'nights', 'expend',\n",
       "       'sample'],\n",
       "      dtype='object')"
      ]
     },
     "execution_count": 108,
     "metadata": {},
     "output_type": "execute_result"
    }
   ],
   "source": [
    "df.columns"
   ]
  },
  {
   "cell_type": "code",
   "execution_count": 109,
   "id": "9c9853ec",
   "metadata": {},
   "outputs": [
    {
     "data": {
      "text/html": [
       "<div>\n",
       "<style scoped>\n",
       "    .dataframe tbody tr th:only-of-type {\n",
       "        vertical-align: middle;\n",
       "    }\n",
       "\n",
       "    .dataframe tbody tr th {\n",
       "        vertical-align: top;\n",
       "    }\n",
       "\n",
       "    .dataframe thead th {\n",
       "        text-align: right;\n",
       "    }\n",
       "</style>\n",
       "<table border=\"1\" class=\"dataframe\">\n",
       "  <thead>\n",
       "    <tr style=\"text-align: right;\">\n",
       "      <th></th>\n",
       "      <th>Unnamed: 0</th>\n",
       "      <th>Year</th>\n",
       "      <th>quarter</th>\n",
       "      <th>ukos</th>\n",
       "      <th>mode</th>\n",
       "      <th>country</th>\n",
       "      <th>purpose</th>\n",
       "      <th>package</th>\n",
       "      <th>Age</th>\n",
       "      <th>Sex</th>\n",
       "      <th>duration</th>\n",
       "      <th>visits</th>\n",
       "      <th>nights</th>\n",
       "      <th>expend</th>\n",
       "      <th>sample</th>\n",
       "    </tr>\n",
       "  </thead>\n",
       "  <tbody>\n",
       "    <tr>\n",
       "      <th>0</th>\n",
       "      <td>0</td>\n",
       "      <td>2022</td>\n",
       "      <td>2</td>\n",
       "      <td>1</td>\n",
       "      <td>1</td>\n",
       "      <td>10</td>\n",
       "      <td>1</td>\n",
       "      <td>1</td>\n",
       "      <td>1</td>\n",
       "      <td>2</td>\n",
       "      <td>2</td>\n",
       "      <td>1216.922</td>\n",
       "      <td>4867.687</td>\n",
       "      <td>578037.819</td>\n",
       "      <td>1</td>\n",
       "    </tr>\n",
       "    <tr>\n",
       "      <th>1</th>\n",
       "      <td>1</td>\n",
       "      <td>2022</td>\n",
       "      <td>2</td>\n",
       "      <td>1</td>\n",
       "      <td>1</td>\n",
       "      <td>10</td>\n",
       "      <td>1</td>\n",
       "      <td>1</td>\n",
       "      <td>2</td>\n",
       "      <td>1</td>\n",
       "      <td>1</td>\n",
       "      <td>940.625</td>\n",
       "      <td>2821.874</td>\n",
       "      <td>188124.928</td>\n",
       "      <td>1</td>\n",
       "    </tr>\n",
       "    <tr>\n",
       "      <th>2</th>\n",
       "      <td>2</td>\n",
       "      <td>2022</td>\n",
       "      <td>2</td>\n",
       "      <td>1</td>\n",
       "      <td>1</td>\n",
       "      <td>10</td>\n",
       "      <td>1</td>\n",
       "      <td>1</td>\n",
       "      <td>2</td>\n",
       "      <td>1</td>\n",
       "      <td>2</td>\n",
       "      <td>6044.895</td>\n",
       "      <td>36510.253</td>\n",
       "      <td>4621624.177</td>\n",
       "      <td>5</td>\n",
       "    </tr>\n",
       "    <tr>\n",
       "      <th>3</th>\n",
       "      <td>3</td>\n",
       "      <td>2022</td>\n",
       "      <td>2</td>\n",
       "      <td>1</td>\n",
       "      <td>1</td>\n",
       "      <td>10</td>\n",
       "      <td>1</td>\n",
       "      <td>1</td>\n",
       "      <td>2</td>\n",
       "      <td>2</td>\n",
       "      <td>1</td>\n",
       "      <td>1102.325</td>\n",
       "      <td>3306.974</td>\n",
       "      <td>220464.930</td>\n",
       "      <td>1</td>\n",
       "    </tr>\n",
       "    <tr>\n",
       "      <th>4</th>\n",
       "      <td>4</td>\n",
       "      <td>2022</td>\n",
       "      <td>2</td>\n",
       "      <td>1</td>\n",
       "      <td>1</td>\n",
       "      <td>10</td>\n",
       "      <td>1</td>\n",
       "      <td>1</td>\n",
       "      <td>2</td>\n",
       "      <td>2</td>\n",
       "      <td>2</td>\n",
       "      <td>4353.722</td>\n",
       "      <td>17414.889</td>\n",
       "      <td>1158992.280</td>\n",
       "      <td>3</td>\n",
       "    </tr>\n",
       "    <tr>\n",
       "      <th>...</th>\n",
       "      <td>...</td>\n",
       "      <td>...</td>\n",
       "      <td>...</td>\n",
       "      <td>...</td>\n",
       "      <td>...</td>\n",
       "      <td>...</td>\n",
       "      <td>...</td>\n",
       "      <td>...</td>\n",
       "      <td>...</td>\n",
       "      <td>...</td>\n",
       "      <td>...</td>\n",
       "      <td>...</td>\n",
       "      <td>...</td>\n",
       "      <td>...</td>\n",
       "      <td>...</td>\n",
       "    </tr>\n",
       "    <tr>\n",
       "      <th>9079</th>\n",
       "      <td>9079</td>\n",
       "      <td>2022</td>\n",
       "      <td>2</td>\n",
       "      <td>2</td>\n",
       "      <td>3</td>\n",
       "      <td>90</td>\n",
       "      <td>4</td>\n",
       "      <td>1</td>\n",
       "      <td>4</td>\n",
       "      <td>2</td>\n",
       "      <td>2</td>\n",
       "      <td>925.756</td>\n",
       "      <td>9257.564</td>\n",
       "      <td>370302.568</td>\n",
       "      <td>1</td>\n",
       "    </tr>\n",
       "    <tr>\n",
       "      <th>9080</th>\n",
       "      <td>9080</td>\n",
       "      <td>2022</td>\n",
       "      <td>2</td>\n",
       "      <td>2</td>\n",
       "      <td>3</td>\n",
       "      <td>90</td>\n",
       "      <td>4</td>\n",
       "      <td>1</td>\n",
       "      <td>6</td>\n",
       "      <td>1</td>\n",
       "      <td>2</td>\n",
       "      <td>925.756</td>\n",
       "      <td>5554.539</td>\n",
       "      <td>138863.463</td>\n",
       "      <td>1</td>\n",
       "    </tr>\n",
       "    <tr>\n",
       "      <th>9081</th>\n",
       "      <td>9081</td>\n",
       "      <td>2022</td>\n",
       "      <td>2</td>\n",
       "      <td>2</td>\n",
       "      <td>3</td>\n",
       "      <td>90</td>\n",
       "      <td>4</td>\n",
       "      <td>1</td>\n",
       "      <td>6</td>\n",
       "      <td>1</td>\n",
       "      <td>3</td>\n",
       "      <td>1061.371</td>\n",
       "      <td>16981.942</td>\n",
       "      <td>1040143.941</td>\n",
       "      <td>1</td>\n",
       "    </tr>\n",
       "    <tr>\n",
       "      <th>9082</th>\n",
       "      <td>9082</td>\n",
       "      <td>2022</td>\n",
       "      <td>2</td>\n",
       "      <td>2</td>\n",
       "      <td>3</td>\n",
       "      <td>90</td>\n",
       "      <td>4</td>\n",
       "      <td>1</td>\n",
       "      <td>6</td>\n",
       "      <td>2</td>\n",
       "      <td>4</td>\n",
       "      <td>1299.207</td>\n",
       "      <td>48070.667</td>\n",
       "      <td>129920.721</td>\n",
       "      <td>1</td>\n",
       "    </tr>\n",
       "    <tr>\n",
       "      <th>9083</th>\n",
       "      <td>9083</td>\n",
       "      <td>2022</td>\n",
       "      <td>2</td>\n",
       "      <td>2</td>\n",
       "      <td>3</td>\n",
       "      <td>91</td>\n",
       "      <td>1</td>\n",
       "      <td>1</td>\n",
       "      <td>4</td>\n",
       "      <td>1</td>\n",
       "      <td>2</td>\n",
       "      <td>1326.673</td>\n",
       "      <td>5306.693</td>\n",
       "      <td>2207584.088</td>\n",
       "      <td>1</td>\n",
       "    </tr>\n",
       "  </tbody>\n",
       "</table>\n",
       "<p>9084 rows × 15 columns</p>\n",
       "</div>"
      ],
      "text/plain": [
       "      Unnamed: 0  Year  quarter  ukos  mode  country  purpose  package  Age  \\\n",
       "0              0  2022        2     1     1       10        1        1    1   \n",
       "1              1  2022        2     1     1       10        1        1    2   \n",
       "2              2  2022        2     1     1       10        1        1    2   \n",
       "3              3  2022        2     1     1       10        1        1    2   \n",
       "4              4  2022        2     1     1       10        1        1    2   \n",
       "...          ...   ...      ...   ...   ...      ...      ...      ...  ...   \n",
       "9079        9079  2022        2     2     3       90        4        1    4   \n",
       "9080        9080  2022        2     2     3       90        4        1    6   \n",
       "9081        9081  2022        2     2     3       90        4        1    6   \n",
       "9082        9082  2022        2     2     3       90        4        1    6   \n",
       "9083        9083  2022        2     2     3       91        1        1    4   \n",
       "\n",
       "      Sex  duration    visits     nights       expend  sample  \n",
       "0       2         2  1216.922   4867.687   578037.819       1  \n",
       "1       1         1   940.625   2821.874   188124.928       1  \n",
       "2       1         2  6044.895  36510.253  4621624.177       5  \n",
       "3       2         1  1102.325   3306.974   220464.930       1  \n",
       "4       2         2  4353.722  17414.889  1158992.280       3  \n",
       "...   ...       ...       ...        ...          ...     ...  \n",
       "9079    2         2   925.756   9257.564   370302.568       1  \n",
       "9080    1         2   925.756   5554.539   138863.463       1  \n",
       "9081    1         3  1061.371  16981.942  1040143.941       1  \n",
       "9082    2         4  1299.207  48070.667   129920.721       1  \n",
       "9083    1         2  1326.673   5306.693  2207584.088       1  \n",
       "\n",
       "[9084 rows x 15 columns]"
      ]
     },
     "execution_count": 109,
     "metadata": {},
     "output_type": "execute_result"
    }
   ],
   "source": [
    "df"
   ]
  },
  {
   "cell_type": "code",
   "execution_count": 110,
   "id": "b34c73d3",
   "metadata": {},
   "outputs": [
    {
     "data": {
      "text/plain": [
       "Unnamed: 0       4542.0\n",
       "Year             2022.0\n",
       "quarter             2.0\n",
       "ukos                1.0\n",
       "mode                1.0\n",
       "country            43.0\n",
       "purpose             3.0\n",
       "package             1.0\n",
       "Age                 4.0\n",
       "Sex                 1.0\n",
       "duration            2.0\n",
       "visits           3129.0\n",
       "nights          29262.0\n",
       "expend        2488249.0\n",
       "sample              3.0\n",
       "dtype: float64"
      ]
     },
     "execution_count": 110,
     "metadata": {},
     "output_type": "execute_result"
    }
   ],
   "source": [
    "df.mean(axis=0).round()"
   ]
  },
  {
   "cell_type": "code",
   "execution_count": 111,
   "id": "73051a29",
   "metadata": {},
   "outputs": [
    {
     "data": {
      "text/plain": [
       "0        39077.761867\n",
       "1        12928.761800\n",
       "2       311081.955000\n",
       "3        15128.081933\n",
       "4        78854.126067\n",
       "            ...      \n",
       "9079     26113.192533\n",
       "9080     10437.183867\n",
       "9081     71293.550267\n",
       "9082     12700.639667\n",
       "9083    148362.030267\n",
       "Length: 9084, dtype: float64"
      ]
     },
     "execution_count": 111,
     "metadata": {},
     "output_type": "execute_result"
    }
   ],
   "source": [
    "df.mean(axis=1)"
   ]
  },
  {
   "cell_type": "code",
   "execution_count": 112,
   "id": "9f4bc0aa",
   "metadata": {},
   "outputs": [
    {
     "data": {
      "image/png": "[encoded data removed]",
      "text/plain": [
       "<Figure size 432x288 with 1 Axes>"
      ]
     },
     "metadata": {
      "needs_background": "light"
     },
     "output_type": "display_data"
    }
   ],
   "source": [
    "df.plot.scatter(x = 'ukos', y = 'expend', s = 20);"
   ]
  },
  {
   "cell_type": "code",
   "execution_count": 113,
   "id": "0e1a1e93",
   "metadata": {},
   "outputs": [
    {
     "data": {
      "image/png": "[encoded data removed]",
      "text/plain": [
       "<Figure size 432x288 with 1 Axes>"
      ]
     },
     "metadata": {
      "needs_background": "light"
     },
     "output_type": "display_data"
    }
   ],
   "source": [
    "df.hist(column='ukos', bins=50);\n",
    "plt.xlabel(\"ukos\")\n",
    "plt.ylabel(\"No of UK and OS residents\")\n",
    "plt.show()"
   ]
  },
  {
   "cell_type": "code",
   "execution_count": 114,
   "id": "644d3e86",
   "metadata": {},
   "outputs": [],
   "source": [
    "index3=df.iloc[ : , [6,13,5]]"
   ]
  },
  {
   "cell_type": "code",
   "execution_count": 115,
   "id": "afd83290",
   "metadata": {},
   "outputs": [
    {
     "data": {
      "text/html": [
       "<div>\n",
       "<style scoped>\n",
       "    .dataframe tbody tr th:only-of-type {\n",
       "        vertical-align: middle;\n",
       "    }\n",
       "\n",
       "    .dataframe tbody tr th {\n",
       "        vertical-align: top;\n",
       "    }\n",
       "\n",
       "    .dataframe thead th {\n",
       "        text-align: right;\n",
       "    }\n",
       "</style>\n",
       "<table border=\"1\" class=\"dataframe\">\n",
       "  <thead>\n",
       "    <tr style=\"text-align: right;\">\n",
       "      <th></th>\n",
       "      <th>purpose</th>\n",
       "      <th>expend</th>\n",
       "      <th>country</th>\n",
       "    </tr>\n",
       "  </thead>\n",
       "  <tbody>\n",
       "    <tr>\n",
       "      <th>0</th>\n",
       "      <td>1</td>\n",
       "      <td>578037.819</td>\n",
       "      <td>10</td>\n",
       "    </tr>\n",
       "    <tr>\n",
       "      <th>1</th>\n",
       "      <td>1</td>\n",
       "      <td>188124.928</td>\n",
       "      <td>10</td>\n",
       "    </tr>\n",
       "    <tr>\n",
       "      <th>2</th>\n",
       "      <td>1</td>\n",
       "      <td>4621624.177</td>\n",
       "      <td>10</td>\n",
       "    </tr>\n",
       "    <tr>\n",
       "      <th>3</th>\n",
       "      <td>1</td>\n",
       "      <td>220464.930</td>\n",
       "      <td>10</td>\n",
       "    </tr>\n",
       "    <tr>\n",
       "      <th>4</th>\n",
       "      <td>1</td>\n",
       "      <td>1158992.280</td>\n",
       "      <td>10</td>\n",
       "    </tr>\n",
       "    <tr>\n",
       "      <th>...</th>\n",
       "      <td>...</td>\n",
       "      <td>...</td>\n",
       "      <td>...</td>\n",
       "    </tr>\n",
       "    <tr>\n",
       "      <th>9079</th>\n",
       "      <td>4</td>\n",
       "      <td>370302.568</td>\n",
       "      <td>90</td>\n",
       "    </tr>\n",
       "    <tr>\n",
       "      <th>9080</th>\n",
       "      <td>4</td>\n",
       "      <td>138863.463</td>\n",
       "      <td>90</td>\n",
       "    </tr>\n",
       "    <tr>\n",
       "      <th>9081</th>\n",
       "      <td>4</td>\n",
       "      <td>1040143.941</td>\n",
       "      <td>90</td>\n",
       "    </tr>\n",
       "    <tr>\n",
       "      <th>9082</th>\n",
       "      <td>4</td>\n",
       "      <td>129920.721</td>\n",
       "      <td>90</td>\n",
       "    </tr>\n",
       "    <tr>\n",
       "      <th>9083</th>\n",
       "      <td>1</td>\n",
       "      <td>2207584.088</td>\n",
       "      <td>91</td>\n",
       "    </tr>\n",
       "  </tbody>\n",
       "</table>\n",
       "<p>9084 rows × 3 columns</p>\n",
       "</div>"
      ],
      "text/plain": [
       "      purpose       expend  country\n",
       "0           1   578037.819       10\n",
       "1           1   188124.928       10\n",
       "2           1  4621624.177       10\n",
       "3           1   220464.930       10\n",
       "4           1  1158992.280       10\n",
       "...       ...          ...      ...\n",
       "9079        4   370302.568       90\n",
       "9080        4   138863.463       90\n",
       "9081        4  1040143.941       90\n",
       "9082        4   129920.721       90\n",
       "9083        1  2207584.088       91\n",
       "\n",
       "[9084 rows x 3 columns]"
      ]
     },
     "execution_count": 115,
     "metadata": {},
     "output_type": "execute_result"
    }
   ],
   "source": [
    "index3"
   ]
  },
  {
   "cell_type": "code",
   "execution_count": 116,
   "id": "3ee1c59a",
   "metadata": {},
   "outputs": [
    {
     "data": {
      "text/html": [
       "<div>\n",
       "<style scoped>\n",
       "    .dataframe tbody tr th:only-of-type {\n",
       "        vertical-align: middle;\n",
       "    }\n",
       "\n",
       "    .dataframe tbody tr th {\n",
       "        vertical-align: top;\n",
       "    }\n",
       "\n",
       "    .dataframe thead th {\n",
       "        text-align: right;\n",
       "    }\n",
       "</style>\n",
       "<table border=\"1\" class=\"dataframe\">\n",
       "  <thead>\n",
       "    <tr style=\"text-align: right;\">\n",
       "      <th></th>\n",
       "      <th>Unnamed: 0</th>\n",
       "      <th>Year</th>\n",
       "      <th>quarter</th>\n",
       "      <th>ukos</th>\n",
       "      <th>mode</th>\n",
       "      <th>country</th>\n",
       "      <th>purpose</th>\n",
       "      <th>package</th>\n",
       "      <th>Age</th>\n",
       "      <th>Sex</th>\n",
       "      <th>duration</th>\n",
       "      <th>visits</th>\n",
       "      <th>nights</th>\n",
       "      <th>expend</th>\n",
       "      <th>sample</th>\n",
       "    </tr>\n",
       "  </thead>\n",
       "  <tbody>\n",
       "    <tr>\n",
       "      <th>0</th>\n",
       "      <td>0</td>\n",
       "      <td>2022</td>\n",
       "      <td>2</td>\n",
       "      <td>1</td>\n",
       "      <td>1</td>\n",
       "      <td>10</td>\n",
       "      <td>1</td>\n",
       "      <td>1</td>\n",
       "      <td>1</td>\n",
       "      <td>2</td>\n",
       "      <td>2</td>\n",
       "      <td>1216.922</td>\n",
       "      <td>4867.687</td>\n",
       "      <td>578037.819</td>\n",
       "      <td>1</td>\n",
       "    </tr>\n",
       "    <tr>\n",
       "      <th>1</th>\n",
       "      <td>1</td>\n",
       "      <td>2022</td>\n",
       "      <td>2</td>\n",
       "      <td>1</td>\n",
       "      <td>1</td>\n",
       "      <td>10</td>\n",
       "      <td>1</td>\n",
       "      <td>1</td>\n",
       "      <td>2</td>\n",
       "      <td>1</td>\n",
       "      <td>1</td>\n",
       "      <td>940.625</td>\n",
       "      <td>2821.874</td>\n",
       "      <td>188124.928</td>\n",
       "      <td>1</td>\n",
       "    </tr>\n",
       "    <tr>\n",
       "      <th>2</th>\n",
       "      <td>2</td>\n",
       "      <td>2022</td>\n",
       "      <td>2</td>\n",
       "      <td>1</td>\n",
       "      <td>1</td>\n",
       "      <td>10</td>\n",
       "      <td>1</td>\n",
       "      <td>1</td>\n",
       "      <td>2</td>\n",
       "      <td>1</td>\n",
       "      <td>2</td>\n",
       "      <td>6044.895</td>\n",
       "      <td>36510.253</td>\n",
       "      <td>4621624.177</td>\n",
       "      <td>5</td>\n",
       "    </tr>\n",
       "    <tr>\n",
       "      <th>3</th>\n",
       "      <td>3</td>\n",
       "      <td>2022</td>\n",
       "      <td>2</td>\n",
       "      <td>1</td>\n",
       "      <td>1</td>\n",
       "      <td>10</td>\n",
       "      <td>1</td>\n",
       "      <td>1</td>\n",
       "      <td>2</td>\n",
       "      <td>2</td>\n",
       "      <td>1</td>\n",
       "      <td>1102.325</td>\n",
       "      <td>3306.974</td>\n",
       "      <td>220464.930</td>\n",
       "      <td>1</td>\n",
       "    </tr>\n",
       "    <tr>\n",
       "      <th>4</th>\n",
       "      <td>4</td>\n",
       "      <td>2022</td>\n",
       "      <td>2</td>\n",
       "      <td>1</td>\n",
       "      <td>1</td>\n",
       "      <td>10</td>\n",
       "      <td>1</td>\n",
       "      <td>1</td>\n",
       "      <td>2</td>\n",
       "      <td>2</td>\n",
       "      <td>2</td>\n",
       "      <td>4353.722</td>\n",
       "      <td>17414.889</td>\n",
       "      <td>1158992.280</td>\n",
       "      <td>3</td>\n",
       "    </tr>\n",
       "    <tr>\n",
       "      <th>...</th>\n",
       "      <td>...</td>\n",
       "      <td>...</td>\n",
       "      <td>...</td>\n",
       "      <td>...</td>\n",
       "      <td>...</td>\n",
       "      <td>...</td>\n",
       "      <td>...</td>\n",
       "      <td>...</td>\n",
       "      <td>...</td>\n",
       "      <td>...</td>\n",
       "      <td>...</td>\n",
       "      <td>...</td>\n",
       "      <td>...</td>\n",
       "      <td>...</td>\n",
       "      <td>...</td>\n",
       "    </tr>\n",
       "    <tr>\n",
       "      <th>9079</th>\n",
       "      <td>9079</td>\n",
       "      <td>2022</td>\n",
       "      <td>2</td>\n",
       "      <td>2</td>\n",
       "      <td>3</td>\n",
       "      <td>90</td>\n",
       "      <td>4</td>\n",
       "      <td>1</td>\n",
       "      <td>4</td>\n",
       "      <td>2</td>\n",
       "      <td>2</td>\n",
       "      <td>925.756</td>\n",
       "      <td>9257.564</td>\n",
       "      <td>370302.568</td>\n",
       "      <td>1</td>\n",
       "    </tr>\n",
       "    <tr>\n",
       "      <th>9080</th>\n",
       "      <td>9080</td>\n",
       "      <td>2022</td>\n",
       "      <td>2</td>\n",
       "      <td>2</td>\n",
       "      <td>3</td>\n",
       "      <td>90</td>\n",
       "      <td>4</td>\n",
       "      <td>1</td>\n",
       "      <td>6</td>\n",
       "      <td>1</td>\n",
       "      <td>2</td>\n",
       "      <td>925.756</td>\n",
       "      <td>5554.539</td>\n",
       "      <td>138863.463</td>\n",
       "      <td>1</td>\n",
       "    </tr>\n",
       "    <tr>\n",
       "      <th>9081</th>\n",
       "      <td>9081</td>\n",
       "      <td>2022</td>\n",
       "      <td>2</td>\n",
       "      <td>2</td>\n",
       "      <td>3</td>\n",
       "      <td>90</td>\n",
       "      <td>4</td>\n",
       "      <td>1</td>\n",
       "      <td>6</td>\n",
       "      <td>1</td>\n",
       "      <td>3</td>\n",
       "      <td>1061.371</td>\n",
       "      <td>16981.942</td>\n",
       "      <td>1040143.941</td>\n",
       "      <td>1</td>\n",
       "    </tr>\n",
       "    <tr>\n",
       "      <th>9082</th>\n",
       "      <td>9082</td>\n",
       "      <td>2022</td>\n",
       "      <td>2</td>\n",
       "      <td>2</td>\n",
       "      <td>3</td>\n",
       "      <td>90</td>\n",
       "      <td>4</td>\n",
       "      <td>1</td>\n",
       "      <td>6</td>\n",
       "      <td>2</td>\n",
       "      <td>4</td>\n",
       "      <td>1299.207</td>\n",
       "      <td>48070.667</td>\n",
       "      <td>129920.721</td>\n",
       "      <td>1</td>\n",
       "    </tr>\n",
       "    <tr>\n",
       "      <th>9083</th>\n",
       "      <td>9083</td>\n",
       "      <td>2022</td>\n",
       "      <td>2</td>\n",
       "      <td>2</td>\n",
       "      <td>3</td>\n",
       "      <td>91</td>\n",
       "      <td>1</td>\n",
       "      <td>1</td>\n",
       "      <td>4</td>\n",
       "      <td>1</td>\n",
       "      <td>2</td>\n",
       "      <td>1326.673</td>\n",
       "      <td>5306.693</td>\n",
       "      <td>2207584.088</td>\n",
       "      <td>1</td>\n",
       "    </tr>\n",
       "  </tbody>\n",
       "</table>\n",
       "<p>9084 rows × 15 columns</p>\n",
       "</div>"
      ],
      "text/plain": [
       "      Unnamed: 0  Year  quarter  ukos  mode  country  purpose  package  Age  \\\n",
       "0              0  2022        2     1     1       10        1        1    1   \n",
       "1              1  2022        2     1     1       10        1        1    2   \n",
       "2              2  2022        2     1     1       10        1        1    2   \n",
       "3              3  2022        2     1     1       10        1        1    2   \n",
       "4              4  2022        2     1     1       10        1        1    2   \n",
       "...          ...   ...      ...   ...   ...      ...      ...      ...  ...   \n",
       "9079        9079  2022        2     2     3       90        4        1    4   \n",
       "9080        9080  2022        2     2     3       90        4        1    6   \n",
       "9081        9081  2022        2     2     3       90        4        1    6   \n",
       "9082        9082  2022        2     2     3       90        4        1    6   \n",
       "9083        9083  2022        2     2     3       91        1        1    4   \n",
       "\n",
       "      Sex  duration    visits     nights       expend  sample  \n",
       "0       2         2  1216.922   4867.687   578037.819       1  \n",
       "1       1         1   940.625   2821.874   188124.928       1  \n",
       "2       1         2  6044.895  36510.253  4621624.177       5  \n",
       "3       2         1  1102.325   3306.974   220464.930       1  \n",
       "4       2         2  4353.722  17414.889  1158992.280       3  \n",
       "...   ...       ...       ...        ...          ...     ...  \n",
       "9079    2         2   925.756   9257.564   370302.568       1  \n",
       "9080    1         2   925.756   5554.539   138863.463       1  \n",
       "9081    1         3  1061.371  16981.942  1040143.941       1  \n",
       "9082    2         4  1299.207  48070.667   129920.721       1  \n",
       "9083    1         2  1326.673   5306.693  2207584.088       1  \n",
       "\n",
       "[9084 rows x 15 columns]"
      ]
     },
     "execution_count": 116,
     "metadata": {},
     "output_type": "execute_result"
    }
   ],
   "source": [
    "df"
   ]
  },
  {
   "cell_type": "code",
   "execution_count": 163,
   "id": "f00cd9ff",
   "metadata": {},
   "outputs": [
    {
     "name": "stdout",
     "output_type": "stream",
     "text": [
      "      Unnamed: 0  Year  quarter  ukos  mode  country  purpose  package  Age  \\\n",
      "0              0  2022        2     1     1       10        1        1    1   \n",
      "1              1  2022        2     1     1       10        1        1    2   \n",
      "2              2  2022        2     1     1       10        1        1    2   \n",
      "3              3  2022        2     1     1       10        1        1    2   \n",
      "4              4  2022        2     1     1       10        1        1    2   \n",
      "...          ...   ...      ...   ...   ...      ...      ...      ...  ...   \n",
      "9079        9079  2022        2     2     3       90        4        1    4   \n",
      "9080        9080  2022        2     2     3       90        4        1    6   \n",
      "9081        9081  2022        2     2     3       90        4        1    6   \n",
      "9082        9082  2022        2     2     3       90        4        1    6   \n",
      "9083        9083  2022        2     2     3       91        1        1    4   \n",
      "\n",
      "      Sex  duration    visits     nights       expend  sample  \n",
      "0       2         2  1216.922   4867.687   578037.819       1  \n",
      "1       1         1   940.625   2821.874   188124.928       1  \n",
      "2       1         2  6044.895  36510.253  4621624.177       5  \n",
      "3       2         1  1102.325   3306.974   220464.930       1  \n",
      "4       2         2  4353.722  17414.889  1158992.280       3  \n",
      "...   ...       ...       ...        ...          ...     ...  \n",
      "9079    2         2   925.756   9257.564   370302.568       1  \n",
      "9080    1         2   925.756   5554.539   138863.463       1  \n",
      "9081    1         3  1061.371  16981.942  1040143.941       1  \n",
      "9082    2         4  1299.207  48070.667   129920.721       1  \n",
      "9083    1         2  1326.673   5306.693  2207584.088       1  \n",
      "\n",
      "[7684 rows x 15 columns]\n"
     ]
    }
   ],
   "source": [
    "j=df[df['package']==1]\n",
    "print(j)"
   ]
  },
  {
   "cell_type": "code",
   "execution_count": 167,
   "id": "deec4a46",
   "metadata": {},
   "outputs": [
    {
     "data": {
      "text/html": [
       "<div>\n",
       "<style scoped>\n",
       "    .dataframe tbody tr th:only-of-type {\n",
       "        vertical-align: middle;\n",
       "    }\n",
       "\n",
       "    .dataframe tbody tr th {\n",
       "        vertical-align: top;\n",
       "    }\n",
       "\n",
       "    .dataframe thead th {\n",
       "        text-align: right;\n",
       "    }\n",
       "</style>\n",
       "<table border=\"1\" class=\"dataframe\">\n",
       "  <thead>\n",
       "    <tr style=\"text-align: right;\">\n",
       "      <th></th>\n",
       "      <th>Unnamed: 0</th>\n",
       "      <th>Year</th>\n",
       "      <th>quarter</th>\n",
       "      <th>ukos</th>\n",
       "      <th>mode</th>\n",
       "      <th>country</th>\n",
       "      <th>purpose</th>\n",
       "      <th>package</th>\n",
       "      <th>Age</th>\n",
       "      <th>Sex</th>\n",
       "      <th>duration</th>\n",
       "      <th>visits</th>\n",
       "      <th>nights</th>\n",
       "      <th>expend</th>\n",
       "      <th>sample</th>\n",
       "    </tr>\n",
       "  </thead>\n",
       "  <tbody>\n",
       "    <tr>\n",
       "      <th>0</th>\n",
       "      <td>0</td>\n",
       "      <td>2022</td>\n",
       "      <td>2</td>\n",
       "      <td>1</td>\n",
       "      <td>1</td>\n",
       "      <td>10</td>\n",
       "      <td>1</td>\n",
       "      <td>1</td>\n",
       "      <td>1</td>\n",
       "      <td>2</td>\n",
       "      <td>2</td>\n",
       "      <td>1216.922</td>\n",
       "      <td>4867.687</td>\n",
       "      <td>578037.819</td>\n",
       "      <td>1</td>\n",
       "    </tr>\n",
       "    <tr>\n",
       "      <th>1</th>\n",
       "      <td>1</td>\n",
       "      <td>2022</td>\n",
       "      <td>2</td>\n",
       "      <td>1</td>\n",
       "      <td>1</td>\n",
       "      <td>10</td>\n",
       "      <td>1</td>\n",
       "      <td>1</td>\n",
       "      <td>2</td>\n",
       "      <td>1</td>\n",
       "      <td>1</td>\n",
       "      <td>940.625</td>\n",
       "      <td>2821.874</td>\n",
       "      <td>188124.928</td>\n",
       "      <td>1</td>\n",
       "    </tr>\n",
       "    <tr>\n",
       "      <th>2</th>\n",
       "      <td>2</td>\n",
       "      <td>2022</td>\n",
       "      <td>2</td>\n",
       "      <td>1</td>\n",
       "      <td>1</td>\n",
       "      <td>10</td>\n",
       "      <td>1</td>\n",
       "      <td>1</td>\n",
       "      <td>2</td>\n",
       "      <td>1</td>\n",
       "      <td>2</td>\n",
       "      <td>6044.895</td>\n",
       "      <td>36510.253</td>\n",
       "      <td>4621624.177</td>\n",
       "      <td>5</td>\n",
       "    </tr>\n",
       "    <tr>\n",
       "      <th>3</th>\n",
       "      <td>3</td>\n",
       "      <td>2022</td>\n",
       "      <td>2</td>\n",
       "      <td>1</td>\n",
       "      <td>1</td>\n",
       "      <td>10</td>\n",
       "      <td>1</td>\n",
       "      <td>1</td>\n",
       "      <td>2</td>\n",
       "      <td>2</td>\n",
       "      <td>1</td>\n",
       "      <td>1102.325</td>\n",
       "      <td>3306.974</td>\n",
       "      <td>220464.930</td>\n",
       "      <td>1</td>\n",
       "    </tr>\n",
       "    <tr>\n",
       "      <th>4</th>\n",
       "      <td>4</td>\n",
       "      <td>2022</td>\n",
       "      <td>2</td>\n",
       "      <td>1</td>\n",
       "      <td>1</td>\n",
       "      <td>10</td>\n",
       "      <td>1</td>\n",
       "      <td>1</td>\n",
       "      <td>2</td>\n",
       "      <td>2</td>\n",
       "      <td>2</td>\n",
       "      <td>4353.722</td>\n",
       "      <td>17414.889</td>\n",
       "      <td>1158992.280</td>\n",
       "      <td>3</td>\n",
       "    </tr>\n",
       "    <tr>\n",
       "      <th>...</th>\n",
       "      <td>...</td>\n",
       "      <td>...</td>\n",
       "      <td>...</td>\n",
       "      <td>...</td>\n",
       "      <td>...</td>\n",
       "      <td>...</td>\n",
       "      <td>...</td>\n",
       "      <td>...</td>\n",
       "      <td>...</td>\n",
       "      <td>...</td>\n",
       "      <td>...</td>\n",
       "      <td>...</td>\n",
       "      <td>...</td>\n",
       "      <td>...</td>\n",
       "      <td>...</td>\n",
       "    </tr>\n",
       "    <tr>\n",
       "      <th>9079</th>\n",
       "      <td>9079</td>\n",
       "      <td>2022</td>\n",
       "      <td>2</td>\n",
       "      <td>2</td>\n",
       "      <td>3</td>\n",
       "      <td>90</td>\n",
       "      <td>4</td>\n",
       "      <td>1</td>\n",
       "      <td>4</td>\n",
       "      <td>2</td>\n",
       "      <td>2</td>\n",
       "      <td>925.756</td>\n",
       "      <td>9257.564</td>\n",
       "      <td>370302.568</td>\n",
       "      <td>1</td>\n",
       "    </tr>\n",
       "    <tr>\n",
       "      <th>9080</th>\n",
       "      <td>9080</td>\n",
       "      <td>2022</td>\n",
       "      <td>2</td>\n",
       "      <td>2</td>\n",
       "      <td>3</td>\n",
       "      <td>90</td>\n",
       "      <td>4</td>\n",
       "      <td>1</td>\n",
       "      <td>6</td>\n",
       "      <td>1</td>\n",
       "      <td>2</td>\n",
       "      <td>925.756</td>\n",
       "      <td>5554.539</td>\n",
       "      <td>138863.463</td>\n",
       "      <td>1</td>\n",
       "    </tr>\n",
       "    <tr>\n",
       "      <th>9081</th>\n",
       "      <td>9081</td>\n",
       "      <td>2022</td>\n",
       "      <td>2</td>\n",
       "      <td>2</td>\n",
       "      <td>3</td>\n",
       "      <td>90</td>\n",
       "      <td>4</td>\n",
       "      <td>1</td>\n",
       "      <td>6</td>\n",
       "      <td>1</td>\n",
       "      <td>3</td>\n",
       "      <td>1061.371</td>\n",
       "      <td>16981.942</td>\n",
       "      <td>1040143.941</td>\n",
       "      <td>1</td>\n",
       "    </tr>\n",
       "    <tr>\n",
       "      <th>9082</th>\n",
       "      <td>9082</td>\n",
       "      <td>2022</td>\n",
       "      <td>2</td>\n",
       "      <td>2</td>\n",
       "      <td>3</td>\n",
       "      <td>90</td>\n",
       "      <td>4</td>\n",
       "      <td>1</td>\n",
       "      <td>6</td>\n",
       "      <td>2</td>\n",
       "      <td>4</td>\n",
       "      <td>1299.207</td>\n",
       "      <td>48070.667</td>\n",
       "      <td>129920.721</td>\n",
       "      <td>1</td>\n",
       "    </tr>\n",
       "    <tr>\n",
       "      <th>9083</th>\n",
       "      <td>9083</td>\n",
       "      <td>2022</td>\n",
       "      <td>2</td>\n",
       "      <td>2</td>\n",
       "      <td>3</td>\n",
       "      <td>91</td>\n",
       "      <td>1</td>\n",
       "      <td>1</td>\n",
       "      <td>4</td>\n",
       "      <td>1</td>\n",
       "      <td>2</td>\n",
       "      <td>1326.673</td>\n",
       "      <td>5306.693</td>\n",
       "      <td>2207584.088</td>\n",
       "      <td>1</td>\n",
       "    </tr>\n",
       "  </tbody>\n",
       "</table>\n",
       "<p>7684 rows × 15 columns</p>\n",
       "</div>"
      ],
      "text/plain": [
       "      Unnamed: 0  Year  quarter  ukos  mode  country  purpose  package  Age  \\\n",
       "0              0  2022        2     1     1       10        1        1    1   \n",
       "1              1  2022        2     1     1       10        1        1    2   \n",
       "2              2  2022        2     1     1       10        1        1    2   \n",
       "3              3  2022        2     1     1       10        1        1    2   \n",
       "4              4  2022        2     1     1       10        1        1    2   \n",
       "...          ...   ...      ...   ...   ...      ...      ...      ...  ...   \n",
       "9079        9079  2022        2     2     3       90        4        1    4   \n",
       "9080        9080  2022        2     2     3       90        4        1    6   \n",
       "9081        9081  2022        2     2     3       90        4        1    6   \n",
       "9082        9082  2022        2     2     3       90        4        1    6   \n",
       "9083        9083  2022        2     2     3       91        1        1    4   \n",
       "\n",
       "      Sex  duration    visits     nights       expend  sample  \n",
       "0       2         2  1216.922   4867.687   578037.819       1  \n",
       "1       1         1   940.625   2821.874   188124.928       1  \n",
       "2       1         2  6044.895  36510.253  4621624.177       5  \n",
       "3       2         1  1102.325   3306.974   220464.930       1  \n",
       "4       2         2  4353.722  17414.889  1158992.280       3  \n",
       "...   ...       ...       ...        ...          ...     ...  \n",
       "9079    2         2   925.756   9257.564   370302.568       1  \n",
       "9080    1         2   925.756   5554.539   138863.463       1  \n",
       "9081    1         3  1061.371  16981.942  1040143.941       1  \n",
       "9082    2         4  1299.207  48070.667   129920.721       1  \n",
       "9083    1         2  1326.673   5306.693  2207584.088       1  \n",
       "\n",
       "[7684 rows x 15 columns]"
      ]
     },
     "execution_count": 167,
     "metadata": {},
     "output_type": "execute_result"
    }
   ],
   "source": [
    "j"
   ]
  },
  {
   "cell_type": "code",
   "execution_count": 157,
   "id": "9e0fe6da",
   "metadata": {},
   "outputs": [
    {
     "data": {
      "text/plain": [
       "package          1.0\n",
       "expend     3441179.0\n",
       "dtype: float64"
      ]
     },
     "execution_count": 157,
     "metadata": {},
     "output_type": "execute_result"
    }
   ],
   "source": [
    "index6=j.iloc[ : , [7,13]].mean().round()\n",
    "index6"
   ]
  },
  {
   "cell_type": "code",
   "execution_count": 151,
   "id": "fb98970f",
   "metadata": {},
   "outputs": [
    {
     "data": {
      "text/html": [
       "<div>\n",
       "<style scoped>\n",
       "    .dataframe tbody tr th:only-of-type {\n",
       "        vertical-align: middle;\n",
       "    }\n",
       "\n",
       "    .dataframe tbody tr th {\n",
       "        vertical-align: top;\n",
       "    }\n",
       "\n",
       "    .dataframe thead th {\n",
       "        text-align: right;\n",
       "    }\n",
       "</style>\n",
       "<table border=\"1\" class=\"dataframe\">\n",
       "  <thead>\n",
       "    <tr style=\"text-align: right;\">\n",
       "      <th></th>\n",
       "      <th>package</th>\n",
       "      <th>expend</th>\n",
       "    </tr>\n",
       "  </thead>\n",
       "  <tbody>\n",
       "    <tr>\n",
       "      <th>27</th>\n",
       "      <td>2</td>\n",
       "      <td>1806675.172</td>\n",
       "    </tr>\n",
       "    <tr>\n",
       "      <th>28</th>\n",
       "      <td>2</td>\n",
       "      <td>2432457.683</td>\n",
       "    </tr>\n",
       "    <tr>\n",
       "      <th>29</th>\n",
       "      <td>2</td>\n",
       "      <td>2358300.497</td>\n",
       "    </tr>\n",
       "    <tr>\n",
       "      <th>30</th>\n",
       "      <td>2</td>\n",
       "      <td>4205263.883</td>\n",
       "    </tr>\n",
       "    <tr>\n",
       "      <th>31</th>\n",
       "      <td>2</td>\n",
       "      <td>1127148.223</td>\n",
       "    </tr>\n",
       "    <tr>\n",
       "      <th>...</th>\n",
       "      <td>...</td>\n",
       "      <td>...</td>\n",
       "    </tr>\n",
       "    <tr>\n",
       "      <th>9012</th>\n",
       "      <td>2</td>\n",
       "      <td>3132282.186</td>\n",
       "    </tr>\n",
       "    <tr>\n",
       "      <th>9013</th>\n",
       "      <td>2</td>\n",
       "      <td>214631.756</td>\n",
       "    </tr>\n",
       "    <tr>\n",
       "      <th>9014</th>\n",
       "      <td>2</td>\n",
       "      <td>2063147.752</td>\n",
       "    </tr>\n",
       "    <tr>\n",
       "      <th>9055</th>\n",
       "      <td>2</td>\n",
       "      <td>4256938.060</td>\n",
       "    </tr>\n",
       "    <tr>\n",
       "      <th>9057</th>\n",
       "      <td>2</td>\n",
       "      <td>2519695.629</td>\n",
       "    </tr>\n",
       "  </tbody>\n",
       "</table>\n",
       "<p>1400 rows × 2 columns</p>\n",
       "</div>"
      ],
      "text/plain": [
       "      package       expend\n",
       "27          2  1806675.172\n",
       "28          2  2432457.683\n",
       "29          2  2358300.497\n",
       "30          2  4205263.883\n",
       "31          2  1127148.223\n",
       "...       ...          ...\n",
       "9012        2  3132282.186\n",
       "9013        2   214631.756\n",
       "9014        2  2063147.752\n",
       "9055        2  4256938.060\n",
       "9057        2  2519695.629\n",
       "\n",
       "[1400 rows x 2 columns]"
      ]
     },
     "execution_count": 151,
     "metadata": {},
     "output_type": "execute_result"
    }
   ],
   "source": [
    "i=df[df['package']==2]\n",
    "index7=i.iloc[ : , [7,13]]\n",
    "index7"
   ]
  },
  {
   "cell_type": "code",
   "execution_count": 159,
   "id": "2e444fde",
   "metadata": {},
   "outputs": [
    {
     "data": {
      "text/plain": [
       "package          2.0\n",
       "expend     3886246.0\n",
       "dtype: float64"
      ]
     },
     "execution_count": 159,
     "metadata": {},
     "output_type": "execute_result"
    }
   ],
   "source": [
    "index7.mean().round()"
   ]
  },
  {
   "cell_type": "code",
   "execution_count": 120,
   "id": "32845211",
   "metadata": {
    "scrolled": true
   },
   "outputs": [
    {
     "name": "stderr",
     "output_type": "stream",
     "text": [
      "C:\\Users\\Dhanush\\AppData\\Local\\Temp\\ipykernel_21016\\647012430.py:1: SettingWithCopyWarning: \n",
      "A value is trying to be set on a copy of a slice from a DataFrame.\n",
      "Try using .loc[row_indexer,col_indexer] = value instead\n",
      "\n",
      "See the caveats in the documentation: https://pandas.pydata.org/pandas-docs/stable/user_guide/indexing.html#returning-a-view-versus-a-copy\n",
      "  index6['ukos2'] = index7['ukos']\n"
     ]
    }
   ],
   "source": [
    "index6['ukos2'] = index7['ukos']"
   ]
  },
  {
   "cell_type": "code",
   "execution_count": 121,
   "id": "8e440fda",
   "metadata": {},
   "outputs": [
    {
     "data": {
      "text/html": [
       "<div>\n",
       "<style scoped>\n",
       "    .dataframe tbody tr th:only-of-type {\n",
       "        vertical-align: middle;\n",
       "    }\n",
       "\n",
       "    .dataframe tbody tr th {\n",
       "        vertical-align: top;\n",
       "    }\n",
       "\n",
       "    .dataframe thead th {\n",
       "        text-align: right;\n",
       "    }\n",
       "</style>\n",
       "<table border=\"1\" class=\"dataframe\">\n",
       "  <thead>\n",
       "    <tr style=\"text-align: right;\">\n",
       "      <th></th>\n",
       "      <th>ukos</th>\n",
       "      <th>expend</th>\n",
       "      <th>ukos2</th>\n",
       "    </tr>\n",
       "  </thead>\n",
       "  <tbody>\n",
       "    <tr>\n",
       "      <th>0</th>\n",
       "      <td>1</td>\n",
       "      <td>578037.819</td>\n",
       "      <td>NaN</td>\n",
       "    </tr>\n",
       "    <tr>\n",
       "      <th>1</th>\n",
       "      <td>1</td>\n",
       "      <td>188124.928</td>\n",
       "      <td>NaN</td>\n",
       "    </tr>\n",
       "    <tr>\n",
       "      <th>2</th>\n",
       "      <td>1</td>\n",
       "      <td>4621624.177</td>\n",
       "      <td>NaN</td>\n",
       "    </tr>\n",
       "    <tr>\n",
       "      <th>3</th>\n",
       "      <td>1</td>\n",
       "      <td>220464.930</td>\n",
       "      <td>NaN</td>\n",
       "    </tr>\n",
       "    <tr>\n",
       "      <th>4</th>\n",
       "      <td>1</td>\n",
       "      <td>1158992.280</td>\n",
       "      <td>NaN</td>\n",
       "    </tr>\n",
       "    <tr>\n",
       "      <th>...</th>\n",
       "      <td>...</td>\n",
       "      <td>...</td>\n",
       "      <td>...</td>\n",
       "    </tr>\n",
       "    <tr>\n",
       "      <th>4578</th>\n",
       "      <td>1</td>\n",
       "      <td>1339460.063</td>\n",
       "      <td>NaN</td>\n",
       "    </tr>\n",
       "    <tr>\n",
       "      <th>4579</th>\n",
       "      <td>1</td>\n",
       "      <td>964411.245</td>\n",
       "      <td>NaN</td>\n",
       "    </tr>\n",
       "    <tr>\n",
       "      <th>4580</th>\n",
       "      <td>1</td>\n",
       "      <td>1373805.193</td>\n",
       "      <td>NaN</td>\n",
       "    </tr>\n",
       "    <tr>\n",
       "      <th>4581</th>\n",
       "      <td>1</td>\n",
       "      <td>2472849.347</td>\n",
       "      <td>NaN</td>\n",
       "    </tr>\n",
       "    <tr>\n",
       "      <th>4582</th>\n",
       "      <td>1</td>\n",
       "      <td>1373805.193</td>\n",
       "      <td>NaN</td>\n",
       "    </tr>\n",
       "  </tbody>\n",
       "</table>\n",
       "<p>4583 rows × 3 columns</p>\n",
       "</div>"
      ],
      "text/plain": [
       "      ukos       expend  ukos2\n",
       "0        1   578037.819    NaN\n",
       "1        1   188124.928    NaN\n",
       "2        1  4621624.177    NaN\n",
       "3        1   220464.930    NaN\n",
       "4        1  1158992.280    NaN\n",
       "...    ...          ...    ...\n",
       "4578     1  1339460.063    NaN\n",
       "4579     1   964411.245    NaN\n",
       "4580     1  1373805.193    NaN\n",
       "4581     1  2472849.347    NaN\n",
       "4582     1  1373805.193    NaN\n",
       "\n",
       "[4583 rows x 3 columns]"
      ]
     },
     "execution_count": 121,
     "metadata": {},
     "output_type": "execute_result"
    }
   ],
   "source": [
    "index6"
   ]
  },
  {
   "cell_type": "code",
   "execution_count": 130,
   "id": "e55a5ebe",
   "metadata": {},
   "outputs": [
    {
     "name": "stdout",
     "output_type": "stream",
     "text": [
      "ukos\n",
      "1    3441179.0\n",
      "2    1517959.0\n",
      "Name: expend, dtype: float64\n"
     ]
    }
   ],
   "source": [
    "index8=df.iloc[ : , [3,13]]\n",
    "index8=index8.groupby(\"ukos\")['expend'].mean().round()\n",
    "print(index8)"
   ]
  },
  {
   "cell_type": "code",
   "execution_count": 131,
   "id": "43b9806b",
   "metadata": {},
   "outputs": [
    {
     "data": {
      "text/plain": [
       "<AxesSubplot:xlabel='ukos', ylabel='expend'>"
      ]
     },
     "execution_count": 131,
     "metadata": {},
     "output_type": "execute_result"
    },
    {
     "data": {
      "image/png": "[encoded data removed]",
      "text/plain": [
       "<Figure size 432x288 with 1 Axes>"
      ]
     },
     "metadata": {
      "needs_background": "light"
     },
     "output_type": "display_data"
    }
   ],
   "source": [
    "sns.boxplot(data=df, x=\"ukos\", y=\"expend\")\n"
   ]
  },
  {
   "cell_type": "code",
   "execution_count": 162,
   "id": "c80e699a",
   "metadata": {},
   "outputs": [
    {
     "data": {
      "image/png": "[encoded data removed]",
      "text/plain": [
       "<Figure size 432x432 with 1 Axes>"
      ]
     },
     "metadata": {
      "needs_background": "light"
     },
     "output_type": "display_data"
    }
   ],
   "source": [
    "index8.plot(x=\"package\",y=\"expend\",kind=\"bar\",figsize=(6,6))\n",
    "plt.xlabel(\"package\")\n",
    "plt.ylabel(\"expend\")\n",
    "mp.show()"
   ]
  },
  {
   "cell_type": "code",
   "execution_count": 134,
   "id": "fb7d0089",
   "metadata": {},
   "outputs": [
    {
     "data": {
      "image/png": "[encoded data removed]",
      "text/plain": [
       "<Figure size 432x288 with 1 Axes>"
      ]
     },
     "metadata": {
      "needs_background": "light"
     },
     "output_type": "display_data"
    }
   ],
   "source": [
    "df.plot.scatter(x = 'ukos', y = 'expend', s = 20);"
   ]
  },
  {
   "cell_type": "code",
   "execution_count": 135,
   "id": "98a2d62b",
   "metadata": {},
   "outputs": [
    {
     "data": {
      "image/png": "[encoded data removed]",
      "text/plain": [
       "<Figure size 432x288 with 1 Axes>"
      ]
     },
     "metadata": {
      "needs_background": "light"
     },
     "output_type": "display_data"
    }
   ],
   "source": [
    "df.hist(column='ukos', bins=50);"
   ]
  },
  {
   "cell_type": "code",
   "execution_count": 136,
   "id": "f959cead",
   "metadata": {},
   "outputs": [
    {
     "data": {
      "text/plain": [
       "<AxesSubplot:ylabel='Frequency'>"
      ]
     },
     "execution_count": 136,
     "metadata": {},
     "output_type": "execute_result"
    },
    {
     "data": {
      "image/png": "[encoded data removed]",
      "text/plain": [
       "<Figure size 518.4x288 with 1 Axes>"
      ]
     },
     "metadata": {
      "needs_background": "light"
     },
     "output_type": "display_data"
    }
   ],
   "source": [
    "index8.plot.hist(stacked=True, bins=10, figsize=(7.2,4))"
   ]
  },
  {
   "cell_type": "code",
   "execution_count": 137,
   "id": "181a5171",
   "metadata": {},
   "outputs": [
    {
     "data": {
      "text/plain": [
       "<AxesSubplot:ylabel='expend'>"
      ]
     },
     "execution_count": 137,
     "metadata": {},
     "output_type": "execute_result"
    },
    {
     "data": {
      "image/png": "[encoded data removed]",
      "text/plain": [
       "<Figure size 432x288 with 1 Axes>"
      ]
     },
     "metadata": {},
     "output_type": "display_data"
    }
   ],
   "source": [
    "index8.groupby(['ukos']).sum().plot(\n",
    "    kind='pie', y='expend', autopct='%1.0f%%')"
   ]
  },
  {
   "cell_type": "code",
   "execution_count": 147,
   "id": "b7e85ac0",
   "metadata": {},
   "outputs": [
    {
     "data": {
      "text/plain": [
       "<seaborn.axisgrid.FacetGrid at 0x24148dc0d30>"
      ]
     },
     "execution_count": 147,
     "metadata": {},
     "output_type": "execute_result"
    },
    {
     "data": {
      "image/png": "[encoded data removed]",
      "text/plain": [
       "<Figure size 828x360 with 1 Axes>"
      ]
     },
     "metadata": {
      "needs_background": "light"
     },
     "output_type": "display_data"
    }
   ],
   "source": [
    "sns.catplot(data=df,kind=\"violin\",x=\"purpose\",y=\"package\",split=True,height=5,aspect=2.3)"
   ]
  },
  {
   "cell_type": "code",
   "execution_count": 148,
   "id": "21047036",
   "metadata": {},
   "outputs": [
    {
     "data": {
      "text/plain": [
       "<seaborn.axisgrid.PairGrid at 0x241b6dcba30>"
      ]
     },
     "execution_count": 148,
     "metadata": {},
     "output_type": "execute_result"
    },
    {
     "data": {
      "image/png": "[encoded data removed]",
      "text/plain": [
       "<Figure size 2700x2700 with 240 Axes>"
      ]
     },
     "metadata": {
      "needs_background": "light"
     },
     "output_type": "display_data"
    }
   ],
   "source": [
    "sns.pairplot(df , kind=\"hist\")"
   ]
  },
  {
   "cell_type": "code",
   "execution_count": 149,
   "id": "8e82463a",
   "metadata": {},
   "outputs": [
    {
     "data": {
      "text/plain": [
       "purpose\n",
       "1    1.271717\n",
       "2    1.136203\n",
       "3    1.089431\n",
       "4    1.055995\n",
       "5    1.099723\n",
       "6    1.000000\n",
       "Name: package, dtype: float64"
      ]
     },
     "execution_count": 149,
     "metadata": {},
     "output_type": "execute_result"
    }
   ],
   "source": [
    "index9=df.iloc[ : , [6,7]]\n",
    "index9=index9.groupby(\"purpose\")[\"package\"].mean()\n",
    "index9"
   ]
  },
  {
   "cell_type": "markdown",
   "id": "a907ea4f",
   "metadata": {},
   "source": [
    "#### "
   ]
  },
  {
   "cell_type": "code",
   "execution_count": null,
   "id": "47f4b053",
   "metadata": {},
   "outputs": [],
   "source": []
  }
 ],
 "metadata": {
  "kernelspec": {
   "display_name": "Python 3 (ipykernel)",
   "language": "python",
   "name": "python3"
  },
  "language_info": {
   "codemirror_mode": {
    "name": "ipython",
    "version": 3
   },
   "file_extension": ".py",
   "mimetype": "text/x-python",
   "name": "python",
   "nbconvert_exporter": "python",
   "pygments_lexer": "ipython3",
   "version": "3.9.17"
  }
 },
 "nbformat": 4,
 "nbformat_minor": 5
}
